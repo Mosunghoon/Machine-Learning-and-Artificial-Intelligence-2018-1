{
 "cells": [
  {
   "cell_type": "markdown",
   "metadata": {},
   "source": [
    "## Neural Network 실습"
   ]
  },
  {
   "cell_type": "code",
   "execution_count": 4,
   "metadata": {},
   "outputs": [],
   "source": [
    "from sklearn.datasets import fetch_mldata\n",
    "from sklearn.neural_network import MLPClassifier\n",
    "import time"
   ]
  },
  {
   "cell_type": "code",
   "execution_count": 5,
   "metadata": {},
   "outputs": [],
   "source": [
    "mnist = fetch_mldata(\"MNIST original\")"
   ]
  },
  {
   "cell_type": "code",
   "execution_count": 6,
   "metadata": {},
   "outputs": [],
   "source": [
    "x, y = mnist.data, mnist.target\n",
    "x_train, x_test = x[:60000], x[60000:]\n",
    "y_train, y_test = y[:60000], y[60000:]"
   ]
  },
  {
   "cell_type": "code",
   "execution_count": 24,
   "metadata": {},
   "outputs": [
    {
     "name": "stdout",
     "output_type": "stream",
     "text": [
      "Iteration 1, loss = 1.03360990\n",
      "Iteration 2, loss = 0.45405702\n",
      "Iteration 3, loss = 0.35987616\n",
      "Iteration 4, loss = 0.30611324\n",
      "Iteration 5, loss = 0.27010215\n",
      "Iteration 6, loss = 0.24292333\n",
      "Iteration 7, loss = 0.22490923\n",
      "Iteration 8, loss = 0.21034000\n",
      "Iteration 9, loss = 0.19630875\n",
      "Iteration 10, loss = 0.18450333\n",
      "Iteration 11, loss = 0.17439282\n",
      "Iteration 12, loss = 0.16849903\n",
      "Iteration 13, loss = 0.16091955\n",
      "Iteration 14, loss = 0.15591826\n",
      "Iteration 15, loss = 0.14974642\n",
      "Iteration 16, loss = 0.14345312\n",
      "Iteration 17, loss = 0.13972090\n",
      "Iteration 18, loss = 0.13507652\n",
      "Iteration 19, loss = 0.13046840\n",
      "Iteration 20, loss = 0.12858338\n",
      "Iteration 21, loss = 0.12454552\n",
      "Iteration 22, loss = 0.12210737\n",
      "Iteration 23, loss = 0.11923769\n",
      "Iteration 24, loss = 0.11489549\n",
      "Iteration 25, loss = 0.11361173\n",
      "Iteration 26, loss = 0.11125744\n",
      "Iteration 27, loss = 0.10833073\n",
      "Iteration 28, loss = 0.10585465\n",
      "Iteration 29, loss = 0.10343747\n",
      "Iteration 30, loss = 0.10270883\n",
      "Iteration 31, loss = 0.09975314\n",
      "Iteration 32, loss = 0.09998694\n",
      "Iteration 33, loss = 0.09582962\n",
      "Iteration 34, loss = 0.09314692\n",
      "Iteration 35, loss = 0.09325929\n",
      "Iteration 36, loss = 0.08997256\n",
      "Iteration 37, loss = 0.08907576\n",
      "Iteration 38, loss = 0.08668223\n",
      "Iteration 39, loss = 0.08578511\n",
      "Iteration 40, loss = 0.08442925\n",
      "Iteration 41, loss = 0.08196331\n",
      "Iteration 42, loss = 0.08149946\n",
      "Iteration 43, loss = 0.08067270\n",
      "Iteration 44, loss = 0.07910226\n",
      "Iteration 45, loss = 0.07573281\n",
      "Iteration 46, loss = 0.07653265\n",
      "Iteration 47, loss = 0.07367411\n",
      "Iteration 48, loss = 0.07296204\n",
      "Iteration 49, loss = 0.07287160\n",
      "Iteration 50, loss = 0.07234499\n"
     ]
    },
    {
     "name": "stderr",
     "output_type": "stream",
     "text": [
      "C:\\ProgramData\\Anaconda3\\lib\\site-packages\\sklearn\\neural_network\\multilayer_perceptron.py:564: ConvergenceWarning: Stochastic Optimizer: Maximum iterations (50) reached and the optimization hasn't converged yet.\n",
      "  % self.max_iter, ConvergenceWarning)\n"
     ]
    },
    {
     "name": "stdout",
     "output_type": "stream",
     "text": [
      "Training set score: 0.982117\n",
      "Test set score: 0.956900\n",
      "--- 54.14704370498657 seconds ---\n"
     ]
    }
   ],
   "source": [
    "start_time = time.time()\n",
    "mlp = MLPClassifier(hidden_layer_sizes=(30,30,30,30,30,30,30,30),\n",
    "                    max_iter=50, solver='sgd', verbose=1, learning_rate_init=.001)\n",
    "mlp.fit(x_train, y_train)\n",
    "\n",
    "print(\"Training set score: %f\" % mlp.score(x_train, y_train))\n",
    "print(\"Test set score: %f\" % mlp.score(x_test, y_test))\n",
    "print(\"--- %s seconds ---\" % (time.time() - start_time))"
   ]
  },
  {
   "cell_type": "code",
   "execution_count": null,
   "metadata": {},
   "outputs": [],
   "source": []
  }
 ],
 "metadata": {
  "kernelspec": {
   "display_name": "Python 3",
   "language": "python",
   "name": "python3"
  },
  "language_info": {
   "codemirror_mode": {
    "name": "ipython",
    "version": 3
   },
   "file_extension": ".py",
   "mimetype": "text/x-python",
   "name": "python",
   "nbconvert_exporter": "python",
   "pygments_lexer": "ipython3",
   "version": "3.6.3"
  }
 },
 "nbformat": 4,
 "nbformat_minor": 2
}
